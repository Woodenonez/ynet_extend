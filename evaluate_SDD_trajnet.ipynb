{
 "cells": [
  {
   "cell_type": "code",
   "execution_count": 1,
   "id": "necessary-coffee",
   "metadata": {},
   "outputs": [],
   "source": [
    "import pandas as pd\n",
    "import yaml\n",
    "import argparse\n",
    "import torch\n",
    "from model import YNet"
   ]
  },
  {
   "cell_type": "code",
   "execution_count": 2,
   "id": "nominated-serve",
   "metadata": {},
   "outputs": [],
   "source": [
    "%load_ext autoreload\n",
    "%autoreload 2"
   ]
  },
  {
   "cell_type": "markdown",
   "id": "85d6bf06",
   "metadata": {},
   "source": [
    "#### Some hyperparameters and settings"
   ]
  },
  {
   "cell_type": "code",
   "execution_count": 3,
   "id": "external-stock",
   "metadata": {},
   "outputs": [],
   "source": [
    "CONFIG_FILE_PATH = 'config/sdd_trajnet.yaml'  # yaml config file containing all the hyperparameters\n",
    "DATASET_NAME = 'sdd'\n",
    "\n",
    "TEST_DATA_PATH = 'data/SDD/test_trajnet.pkl'\n",
    "TEST_IMAGE_PATH = 'data/SDD/test'  # only needed for YNet, PECNet ignores this value\n",
    "OBS_LEN = 8  # in timesteps\n",
    "PRED_LEN = 12  # in timesteps\n",
    "NUM_GOALS = 20  # K_e\n",
    "NUM_TRAJ = 1  # K_a\n",
    "\n",
    "ROUNDS = 1  # Y-net is stochastic. How often to evaluate the whole dataset\n",
    "BATCH_SIZE = 8"
   ]
  },
  {
   "cell_type": "markdown",
   "id": "1d9dfa62",
   "metadata": {},
   "source": [
    "#### Load config file and print hyperparameters"
   ]
  },
  {
   "cell_type": "code",
   "execution_count": 4,
   "id": "juvenile-factory",
   "metadata": {},
   "outputs": [
    {
     "data": {
      "text/plain": [
       "{'resize': 0.25,\n",
       " 'batch_size': 8,\n",
       " 'viz_epoch': 10,\n",
       " 'learning_rate': 0.0001,\n",
       " 'num_epochs': 300,\n",
       " 'encoder_channels': [32, 32, 64, 64, 64],\n",
       " 'decoder_channels': [64, 64, 64, 32, 32],\n",
       " 'waypoints': [11],\n",
       " 'temperature': 1.0,\n",
       " 'segmentation_model_fp': 'segmentation_models/SDD_segmentation.pth',\n",
       " 'semantic_classes': 6,\n",
       " 'loss_scale': 1000,\n",
       " 'kernlen': 31,\n",
       " 'nsig': 4,\n",
       " 'use_features_only': False,\n",
       " 'unfreeze': 150,\n",
       " 'use_TTST': True,\n",
       " 'rel_threshold': 0.01,\n",
       " 'use_CWS': False,\n",
       " 'CWS_params': 'None'}"
      ]
     },
     "execution_count": 4,
     "metadata": {},
     "output_type": "execute_result"
    }
   ],
   "source": [
    "with open(CONFIG_FILE_PATH) as file:\n",
    "    params = yaml.load(file, Loader=yaml.FullLoader)\n",
    "experiment_name = CONFIG_FILE_PATH.split('.yaml')[0].split('config/')[1]\n",
    "params"
   ]
  },
  {
   "cell_type": "markdown",
   "id": "stylish-reserve",
   "metadata": {},
   "source": [
    "#### Load preprocessed Data"
   ]
  },
  {
   "cell_type": "code",
   "execution_count": 5,
   "id": "isolated-advertiser",
   "metadata": {},
   "outputs": [],
   "source": [
    "df_test = pd.read_pickle(TEST_DATA_PATH)"
   ]
  },
  {
   "cell_type": "code",
   "execution_count": 6,
   "id": "finished-lotus",
   "metadata": {},
   "outputs": [
    {
     "data": {
      "text/html": [
       "<div>\n",
       "<style scoped>\n",
       "    .dataframe tbody tr th:only-of-type {\n",
       "        vertical-align: middle;\n",
       "    }\n",
       "\n",
       "    .dataframe tbody tr th {\n",
       "        vertical-align: top;\n",
       "    }\n",
       "\n",
       "    .dataframe thead th {\n",
       "        text-align: right;\n",
       "    }\n",
       "</style>\n",
       "<table border=\"1\" class=\"dataframe\">\n",
       "  <thead>\n",
       "    <tr style=\"text-align: right;\">\n",
       "      <th></th>\n",
       "      <th>frame</th>\n",
       "      <th>trackId</th>\n",
       "      <th>x</th>\n",
       "      <th>y</th>\n",
       "      <th>sceneId</th>\n",
       "      <th>metaId</th>\n",
       "    </tr>\n",
       "  </thead>\n",
       "  <tbody>\n",
       "    <tr>\n",
       "      <th>0</th>\n",
       "      <td>0</td>\n",
       "      <td>28.0</td>\n",
       "      <td>1539.5</td>\n",
       "      <td>578.0</td>\n",
       "      <td>coupa_0</td>\n",
       "      <td>0</td>\n",
       "    </tr>\n",
       "    <tr>\n",
       "      <th>1</th>\n",
       "      <td>12</td>\n",
       "      <td>28.0</td>\n",
       "      <td>1484.5</td>\n",
       "      <td>576.0</td>\n",
       "      <td>coupa_0</td>\n",
       "      <td>0</td>\n",
       "    </tr>\n",
       "    <tr>\n",
       "      <th>2</th>\n",
       "      <td>24</td>\n",
       "      <td>28.0</td>\n",
       "      <td>1484.5</td>\n",
       "      <td>576.0</td>\n",
       "      <td>coupa_0</td>\n",
       "      <td>0</td>\n",
       "    </tr>\n",
       "    <tr>\n",
       "      <th>3</th>\n",
       "      <td>36</td>\n",
       "      <td>28.0</td>\n",
       "      <td>1459.5</td>\n",
       "      <td>571.0</td>\n",
       "      <td>coupa_0</td>\n",
       "      <td>0</td>\n",
       "    </tr>\n",
       "    <tr>\n",
       "      <th>4</th>\n",
       "      <td>48</td>\n",
       "      <td>28.0</td>\n",
       "      <td>1432.5</td>\n",
       "      <td>569.0</td>\n",
       "      <td>coupa_0</td>\n",
       "      <td>0</td>\n",
       "    </tr>\n",
       "  </tbody>\n",
       "</table>\n",
       "</div>"
      ],
      "text/plain": [
       "   frame  trackId       x      y  sceneId  metaId\n",
       "0      0     28.0  1539.5  578.0  coupa_0       0\n",
       "1     12     28.0  1484.5  576.0  coupa_0       0\n",
       "2     24     28.0  1484.5  576.0  coupa_0       0\n",
       "3     36     28.0  1459.5  571.0  coupa_0       0\n",
       "4     48     28.0  1432.5  569.0  coupa_0       0"
      ]
     },
     "execution_count": 6,
     "metadata": {},
     "output_type": "execute_result"
    }
   ],
   "source": [
    "df_test.head()"
   ]
  },
  {
   "cell_type": "markdown",
   "id": "6b9046d1",
   "metadata": {},
   "source": [
    "#### Initiate model and load pretrained weights"
   ]
  },
  {
   "cell_type": "code",
   "execution_count": 7,
   "id": "graphic-wales",
   "metadata": {},
   "outputs": [
    {
     "ename": "ModuleNotFoundError",
     "evalue": "No module named 'segmentation_models_pytorch'",
     "output_type": "error",
     "traceback": [
      "\u001b[0;31m---------------------------------------------------------------------------\u001b[0m",
      "\u001b[0;31mModuleNotFoundError\u001b[0m                       Traceback (most recent call last)",
      "\u001b[1;32m/home/ze/Documents/Code/Human-Path-Prediction/ynet/evaluate_SDD_trajnet.ipynb Cell 11'\u001b[0m in \u001b[0;36m<cell line: 1>\u001b[0;34m()\u001b[0m\n\u001b[0;32m----> <a href='vscode-notebook-cell:/home/ze/Documents/Code/Human-Path-Prediction/ynet/evaluate_SDD_trajnet.ipynb#ch0000010?line=0'>1</a>\u001b[0m model \u001b[39m=\u001b[39m YNet(obs_len\u001b[39m=\u001b[39;49mOBS_LEN, pred_len\u001b[39m=\u001b[39;49mPRED_LEN, params\u001b[39m=\u001b[39;49mparams)\n",
      "File \u001b[0;32m~/Documents/Code/Human-Path-Prediction/ynet/model.py:210\u001b[0m, in \u001b[0;36mYNet.__init__\u001b[0;34m(self, obs_len, pred_len, params)\u001b[0m\n\u001b[1;32m    <a href='file:///home/ze/Documents/Code/Human-Path-Prediction/ynet/model.py?line=206'>207</a>\u001b[0m \u001b[39mself\u001b[39m\u001b[39m.\u001b[39mpred_len \u001b[39m=\u001b[39m pred_len\n\u001b[1;32m    <a href='file:///home/ze/Documents/Code/Human-Path-Prediction/ynet/model.py?line=207'>208</a>\u001b[0m \u001b[39mself\u001b[39m\u001b[39m.\u001b[39mdivision_factor \u001b[39m=\u001b[39m \u001b[39m2\u001b[39m \u001b[39m*\u001b[39m\u001b[39m*\u001b[39m \u001b[39mlen\u001b[39m(params[\u001b[39m'\u001b[39m\u001b[39mencoder_channels\u001b[39m\u001b[39m'\u001b[39m])\n\u001b[0;32m--> <a href='file:///home/ze/Documents/Code/Human-Path-Prediction/ynet/model.py?line=209'>210</a>\u001b[0m \u001b[39mself\u001b[39m\u001b[39m.\u001b[39mmodel \u001b[39m=\u001b[39m YNetTorch(obs_len\u001b[39m=\u001b[39;49mobs_len,\n\u001b[1;32m    <a href='file:///home/ze/Documents/Code/Human-Path-Prediction/ynet/model.py?line=210'>211</a>\u001b[0m \t\t\t\t\t   pred_len\u001b[39m=\u001b[39;49mpred_len,\n\u001b[1;32m    <a href='file:///home/ze/Documents/Code/Human-Path-Prediction/ynet/model.py?line=211'>212</a>\u001b[0m \t\t\t\t\t   segmentation_model_fp\u001b[39m=\u001b[39;49mparams[\u001b[39m'\u001b[39;49m\u001b[39msegmentation_model_fp\u001b[39;49m\u001b[39m'\u001b[39;49m],\n\u001b[1;32m    <a href='file:///home/ze/Documents/Code/Human-Path-Prediction/ynet/model.py?line=212'>213</a>\u001b[0m \t\t\t\t\t   use_features_only\u001b[39m=\u001b[39;49mparams[\u001b[39m'\u001b[39;49m\u001b[39muse_features_only\u001b[39;49m\u001b[39m'\u001b[39;49m],\n\u001b[1;32m    <a href='file:///home/ze/Documents/Code/Human-Path-Prediction/ynet/model.py?line=213'>214</a>\u001b[0m \t\t\t\t\t   semantic_classes\u001b[39m=\u001b[39;49mparams[\u001b[39m'\u001b[39;49m\u001b[39msemantic_classes\u001b[39;49m\u001b[39m'\u001b[39;49m],\n\u001b[1;32m    <a href='file:///home/ze/Documents/Code/Human-Path-Prediction/ynet/model.py?line=214'>215</a>\u001b[0m \t\t\t\t\t   encoder_channels\u001b[39m=\u001b[39;49mparams[\u001b[39m'\u001b[39;49m\u001b[39mencoder_channels\u001b[39;49m\u001b[39m'\u001b[39;49m],\n\u001b[1;32m    <a href='file:///home/ze/Documents/Code/Human-Path-Prediction/ynet/model.py?line=215'>216</a>\u001b[0m \t\t\t\t\t   decoder_channels\u001b[39m=\u001b[39;49mparams[\u001b[39m'\u001b[39;49m\u001b[39mdecoder_channels\u001b[39;49m\u001b[39m'\u001b[39;49m],\n\u001b[1;32m    <a href='file:///home/ze/Documents/Code/Human-Path-Prediction/ynet/model.py?line=216'>217</a>\u001b[0m \t\t\t\t\t   waypoints\u001b[39m=\u001b[39;49m\u001b[39mlen\u001b[39;49m(params[\u001b[39m'\u001b[39;49m\u001b[39mwaypoints\u001b[39;49m\u001b[39m'\u001b[39;49m]))\n",
      "File \u001b[0;32m~/Documents/Code/Human-Path-Prediction/ynet/model.py:139\u001b[0m, in \u001b[0;36mYNetTorch.__init__\u001b[0;34m(self, obs_len, pred_len, segmentation_model_fp, use_features_only, semantic_classes, encoder_channels, decoder_channels, waypoints)\u001b[0m\n\u001b[1;32m    <a href='file:///home/ze/Documents/Code/Human-Path-Prediction/ynet/model.py?line=135'>136</a>\u001b[0m \u001b[39msuper\u001b[39m(YNetTorch, \u001b[39mself\u001b[39m)\u001b[39m.\u001b[39m\u001b[39m__init__\u001b[39m()\n\u001b[1;32m    <a href='file:///home/ze/Documents/Code/Human-Path-Prediction/ynet/model.py?line=137'>138</a>\u001b[0m \u001b[39mif\u001b[39;00m segmentation_model_fp \u001b[39mis\u001b[39;00m \u001b[39mnot\u001b[39;00m \u001b[39mNone\u001b[39;00m:\n\u001b[0;32m--> <a href='file:///home/ze/Documents/Code/Human-Path-Prediction/ynet/model.py?line=138'>139</a>\u001b[0m \t\u001b[39mself\u001b[39m\u001b[39m.\u001b[39msemantic_segmentation \u001b[39m=\u001b[39m torch\u001b[39m.\u001b[39;49mload(segmentation_model_fp)\n\u001b[1;32m    <a href='file:///home/ze/Documents/Code/Human-Path-Prediction/ynet/model.py?line=139'>140</a>\u001b[0m \t\u001b[39mif\u001b[39;00m use_features_only:\n\u001b[1;32m    <a href='file:///home/ze/Documents/Code/Human-Path-Prediction/ynet/model.py?line=140'>141</a>\u001b[0m \t\t\u001b[39mself\u001b[39m\u001b[39m.\u001b[39msemantic_segmentation\u001b[39m.\u001b[39msegmentation_head \u001b[39m=\u001b[39m nn\u001b[39m.\u001b[39mIdentity()\n",
      "File \u001b[0;32m~/Software/Anaconda3/envs/ptcv/lib/python3.8/site-packages/torch/serialization.py:608\u001b[0m, in \u001b[0;36mload\u001b[0;34m(f, map_location, pickle_module, **pickle_load_args)\u001b[0m\n\u001b[1;32m    <a href='file:///home/ze/Software/Anaconda3/envs/ptcv/lib/python3.8/site-packages/torch/serialization.py?line=605'>606</a>\u001b[0m             \u001b[39mreturn\u001b[39;00m torch\u001b[39m.\u001b[39mjit\u001b[39m.\u001b[39mload(opened_file)\n\u001b[1;32m    <a href='file:///home/ze/Software/Anaconda3/envs/ptcv/lib/python3.8/site-packages/torch/serialization.py?line=606'>607</a>\u001b[0m         \u001b[39mreturn\u001b[39;00m _load(opened_zipfile, map_location, pickle_module, \u001b[39m*\u001b[39m\u001b[39m*\u001b[39mpickle_load_args)\n\u001b[0;32m--> <a href='file:///home/ze/Software/Anaconda3/envs/ptcv/lib/python3.8/site-packages/torch/serialization.py?line=607'>608</a>\u001b[0m \u001b[39mreturn\u001b[39;00m _legacy_load(opened_file, map_location, pickle_module, \u001b[39m*\u001b[39;49m\u001b[39m*\u001b[39;49mpickle_load_args)\n",
      "File \u001b[0;32m~/Software/Anaconda3/envs/ptcv/lib/python3.8/site-packages/torch/serialization.py:787\u001b[0m, in \u001b[0;36m_legacy_load\u001b[0;34m(f, map_location, pickle_module, **pickle_load_args)\u001b[0m\n\u001b[1;32m    <a href='file:///home/ze/Software/Anaconda3/envs/ptcv/lib/python3.8/site-packages/torch/serialization.py?line=784'>785</a>\u001b[0m unpickler \u001b[39m=\u001b[39m pickle_module\u001b[39m.\u001b[39mUnpickler(f, \u001b[39m*\u001b[39m\u001b[39m*\u001b[39mpickle_load_args)\n\u001b[1;32m    <a href='file:///home/ze/Software/Anaconda3/envs/ptcv/lib/python3.8/site-packages/torch/serialization.py?line=785'>786</a>\u001b[0m unpickler\u001b[39m.\u001b[39mpersistent_load \u001b[39m=\u001b[39m persistent_load\n\u001b[0;32m--> <a href='file:///home/ze/Software/Anaconda3/envs/ptcv/lib/python3.8/site-packages/torch/serialization.py?line=786'>787</a>\u001b[0m result \u001b[39m=\u001b[39m unpickler\u001b[39m.\u001b[39;49mload()\n\u001b[1;32m    <a href='file:///home/ze/Software/Anaconda3/envs/ptcv/lib/python3.8/site-packages/torch/serialization.py?line=788'>789</a>\u001b[0m deserialized_storage_keys \u001b[39m=\u001b[39m pickle_module\u001b[39m.\u001b[39mload(f, \u001b[39m*\u001b[39m\u001b[39m*\u001b[39mpickle_load_args)\n\u001b[1;32m    <a href='file:///home/ze/Software/Anaconda3/envs/ptcv/lib/python3.8/site-packages/torch/serialization.py?line=790'>791</a>\u001b[0m offset \u001b[39m=\u001b[39m f\u001b[39m.\u001b[39mtell() \u001b[39mif\u001b[39;00m f_should_read_directly \u001b[39melse\u001b[39;00m \u001b[39mNone\u001b[39;00m\n",
      "\u001b[0;31mModuleNotFoundError\u001b[0m: No module named 'segmentation_models_pytorch'"
     ]
    }
   ],
   "source": [
    "model = YNet(obs_len=OBS_LEN, pred_len=PRED_LEN, params=params)"
   ]
  },
  {
   "cell_type": "code",
   "execution_count": 8,
   "id": "impaired-genre",
   "metadata": {},
   "outputs": [
    {
     "name": "stdout",
     "output_type": "stream",
     "text": [
      "<All keys matched successfully>\n"
     ]
    }
   ],
   "source": [
    "model.load(f'pretrained_models/{experiment_name}_weights.pt')"
   ]
  },
  {
   "cell_type": "markdown",
   "id": "3de13533",
   "metadata": {},
   "source": [
    "#### Evaluate model"
   ]
  },
  {
   "cell_type": "code",
   "execution_count": 9,
   "id": "labeled-permission",
   "metadata": {},
   "outputs": [
    {
     "name": "stdout",
     "output_type": "stream",
     "text": [
      "Preprocess data\n"
     ]
    },
    {
     "name": "stderr",
     "output_type": "stream",
     "text": [
      "Prepare Dataset: 100%|████████████████████████████████████████████████████████████████| 17/17 [00:00<00:00, 897.17it/s]\n",
      "Round:   0%|                                                                                     | 0/1 [00:00<?, ?it/s]"
     ]
    },
    {
     "name": "stdout",
     "output_type": "stream",
     "text": [
      "Start testing\n"
     ]
    },
    {
     "name": "stderr",
     "output_type": "stream",
     "text": [
      "Round: 100%|███████████████████████████████████████████████████████████████████████████| 1/1 [27:40<00:00, 1660.86s/it]"
     ]
    },
    {
     "name": "stdout",
     "output_type": "stream",
     "text": [
      "Round 0: \n",
      "Test ADE: 7.867360591888428 \n",
      "Test FDE: 11.998600006103516\n",
      "\n",
      "\n",
      "Average performance over 1 rounds: \n",
      "Test ADE: 7.867360591888428 \n",
      "Test FDE: 11.998600006103516\n"
     ]
    },
    {
     "name": "stderr",
     "output_type": "stream",
     "text": [
      "\n"
     ]
    }
   ],
   "source": [
    "model.evaluate(df_test, params, image_path=TEST_IMAGE_PATH,\n",
    "               batch_size=BATCH_SIZE, rounds=ROUNDS, \n",
    "               num_goals=NUM_GOALS, num_traj=NUM_TRAJ, device=None, dataset_name=DATASET_NAME)"
   ]
  }
 ],
 "metadata": {
  "interpreter": {
   "hash": "576b5ff55c75c77ace29f307071f40487dc39157faab1c0b9308d81d50ff5771"
  },
  "kernelspec": {
   "display_name": "Python [conda env:PECNet]",
   "language": "python",
   "name": "python3"
  },
  "language_info": {
   "codemirror_mode": {
    "name": "ipython",
    "version": 3
   },
   "file_extension": ".py",
   "mimetype": "text/x-python",
   "name": "python",
   "nbconvert_exporter": "python",
   "pygments_lexer": "ipython3",
   "version": "3.8.10"
  }
 },
 "nbformat": 4,
 "nbformat_minor": 5
}
